{
  "cells": [
    {
      "cell_type": "markdown",
      "metadata": {
        "id": "UUKiQw6lSv0b"
      },
      "source": [
        "# SF Salaries Exercise - Solutions\n",
        "\n",
        "Welcome to a quick exercise for you to practice your pandas skills! We will be using the [SF Salaries Dataset](https://www.kaggle.com/kaggle/sf-salaries) from Kaggle! Just follow along and complete the tasks outlined in bold below. The tasks will get harder and harder as you go along."
      ]
    },
    {
      "cell_type": "markdown",
      "metadata": {
        "id": "KTgrYCvJSv1A"
      },
      "source": [
        "**Import pandas as pd.**"
      ]
    },
    {
      "cell_type": "code",
      "execution_count": 84,
      "metadata": {
        "id": "_18f5e2GSv1B"
      },
      "outputs": [],
      "source": [
        "import pandas as pd"
      ]
    },
    {
      "cell_type": "markdown",
      "metadata": {
        "id": "KWapnc7tSv1E"
      },
      "source": [
        "**Read Salaries.csv as a dataframe called sal.**"
      ]
    },
    {
      "cell_type": "code",
      "execution_count": 85,
      "metadata": {
        "id": "w1VsupDbSv1F"
      },
      "outputs": [
        {
          "name": "stderr",
          "output_type": "stream",
          "text": [
            "C:\\Users\\we\\AppData\\Local\\Temp\\ipykernel_9152\\2865795940.py:1: DtypeWarning: Columns (3,4,5,6,12) have mixed types. Specify dtype option on import or set low_memory=False.\n",
            "  sal = pd.read_csv(\"Salaries.csv\")\n"
          ]
        }
      ],
      "source": [
        "sal = pd.read_csv(\"Salaries.csv\")"
      ]
    },
    {
      "cell_type": "markdown",
      "metadata": {
        "id": "AoMdjNC8Sv1H"
      },
      "source": [
        "**Check the head of the DataFrame.**"
      ]
    },
    {
      "cell_type": "code",
      "execution_count": 86,
      "metadata": {
        "id": "Pbi1Cwy_Sv1I",
        "outputId": "b4f09287-1eeb-417a-accc-4fbf8c2c9426"
      },
      "outputs": [
        {
          "name": "stdout",
          "output_type": "stream",
          "text": [
            "   Id       EmployeeName                                        JobTitle  \\\n",
            "0   1     NATHANIEL FORD  GENERAL MANAGER-METROPOLITAN TRANSIT AUTHORITY   \n",
            "1   2       GARY JIMENEZ                 CAPTAIN III (POLICE DEPARTMENT)   \n",
            "2   3     ALBERT PARDINI                 CAPTAIN III (POLICE DEPARTMENT)   \n",
            "3   4  CHRISTOPHER CHONG            WIRE ROPE CABLE MAINTENANCE MECHANIC   \n",
            "4   5    PATRICK GARDNER    DEPUTY CHIEF OF DEPARTMENT,(FIRE DEPARTMENT)   \n",
            "\n",
            "     BasePay OvertimePay   OtherPay Benefits   TotalPay  TotalPayBenefits  \\\n",
            "0  167411.18         0.0  400184.25      NaN  567595.43         567595.43   \n",
            "1  155966.02   245131.88  137811.38      NaN  538909.28         538909.28   \n",
            "2  212739.13   106088.18    16452.6      NaN  335279.91         335279.91   \n",
            "3    77916.0    56120.71   198306.9      NaN  332343.61         332343.61   \n",
            "4   134401.6      9737.0  182234.59      NaN  326373.19         326373.19   \n",
            "\n",
            "   Year  Notes         Agency Status  \n",
            "0  2011    NaN  San Francisco    NaN  \n",
            "1  2011    NaN  San Francisco    NaN  \n",
            "2  2011    NaN  San Francisco    NaN  \n",
            "3  2011    NaN  San Francisco    NaN  \n",
            "4  2011    NaN  San Francisco    NaN  \n"
          ]
        }
      ],
      "source": [
        "print(sal.head())"
      ]
    },
    {
      "cell_type": "markdown",
      "metadata": {
        "id": "G3fFzGtzSv1M"
      },
      "source": [
        "**Use the .info() method to find out how many entries there are.**"
      ]
    },
    {
      "cell_type": "code",
      "execution_count": 87,
      "metadata": {
        "id": "GaNnYKzdSv1O",
        "outputId": "2fa9729b-ba86-4700-dadc-7e7e9675954f"
      },
      "outputs": [
        {
          "name": "stdout",
          "output_type": "stream",
          "text": [
            "<class 'pandas.core.frame.DataFrame'>\n",
            "RangeIndex: 148654 entries, 0 to 148653\n",
            "Data columns (total 13 columns):\n",
            " #   Column            Non-Null Count   Dtype  \n",
            "---  ------            --------------   -----  \n",
            " 0   Id                148654 non-null  int64  \n",
            " 1   EmployeeName      148654 non-null  object \n",
            " 2   JobTitle          148654 non-null  object \n",
            " 3   BasePay           148049 non-null  object \n",
            " 4   OvertimePay       148654 non-null  object \n",
            " 5   OtherPay          148654 non-null  object \n",
            " 6   Benefits          112495 non-null  object \n",
            " 7   TotalPay          148654 non-null  float64\n",
            " 8   TotalPayBenefits  148654 non-null  float64\n",
            " 9   Year              148654 non-null  int64  \n",
            " 10  Notes             0 non-null       float64\n",
            " 11  Agency            148654 non-null  object \n",
            " 12  Status            38119 non-null   object \n",
            "dtypes: float64(3), int64(2), object(8)\n",
            "memory usage: 14.7+ MB\n"
          ]
        }
      ],
      "source": [
        "sal.info()"
      ]
    },
    {
      "cell_type": "markdown",
      "metadata": {
        "id": "8ZCAzetUSv1Q"
      },
      "source": [
        "**Use the .describe() method to get some statistics for the data**"
      ]
    },
    {
      "cell_type": "code",
      "execution_count": 88,
      "metadata": {
        "id": "0-1ge9pJSv1R",
        "outputId": "0543a9a0-2b19-499c-9117-6872b1dae0a6"
      },
      "outputs": [
        {
          "name": "stdout",
          "output_type": "stream",
          "text": [
            "                  Id       TotalPay  TotalPayBenefits           Year  Notes\n",
            "count  148654.000000  148654.000000     148654.000000  148654.000000    0.0\n",
            "mean    74327.500000   74768.321972      93692.554811    2012.522643    NaN\n",
            "std     42912.857795   50517.005274      62793.533483       1.117538    NaN\n",
            "min         1.000000    -618.130000       -618.130000    2011.000000    NaN\n",
            "25%     37164.250000   36168.995000      44065.650000    2012.000000    NaN\n",
            "50%     74327.500000   71426.610000      92404.090000    2013.000000    NaN\n",
            "75%    111490.750000  105839.135000     132876.450000    2014.000000    NaN\n",
            "max    148654.000000  567595.430000     567595.430000    2014.000000    NaN\n"
          ]
        }
      ],
      "source": [
        "print(sal.describe())"
      ]
    },
    {
      "cell_type": "markdown",
      "metadata": {
        "id": "ATX6uwSnSv1V"
      },
      "source": [
        "**What is the average BasePay ?**"
      ]
    },
    {
      "cell_type": "code",
      "execution_count": 89,
      "metadata": {
        "id": "u_lX7FUFSv1a",
        "outputId": "bd868d34-d60a-4405-851d-1cf011e74882"
      },
      "outputs": [
        {
          "name": "stdout",
          "output_type": "stream",
          "text": [
            "66325.4488404877\n"
          ]
        }
      ],
      "source": [
        "sal['BasePay'] = sal['BasePay'].apply(pd.to_numeric, errors='coerce')\n",
        "#sal['BasePay'] = pd.to_numeric(sal['BasePay'],errors = 'coerce')\n",
        "\n",
        "print(sal[\"BasePay\"].mean())"
      ]
    },
    {
      "cell_type": "markdown",
      "metadata": {
        "id": "lUpFSBIOSv1b"
      },
      "source": [
        "**What is the highest amount of OvertimePay in the dataset ?**"
      ]
    },
    {
      "cell_type": "code",
      "execution_count": 90,
      "metadata": {
        "id": "NZKR9qIdSv1d",
        "outputId": "e084fa5f-9f9d-4c18-b6cd-228e9d0fce94"
      },
      "outputs": [
        {
          "name": "stdout",
          "output_type": "stream",
          "text": [
            "245131.88\n"
          ]
        }
      ],
      "source": [
        "sal['OvertimePay'] = sal['OvertimePay'].apply(pd.to_numeric, errors='coerce')\n",
        "print(sal[\"OvertimePay\"].max())"
      ]
    },
    {
      "cell_type": "markdown",
      "metadata": {
        "id": "2pcpcXdvSv1e"
      },
      "source": [
        "**What is the job title of  JOSEPH DRISCOLL ? Note: Use all caps, otherwise you may get an answer that doesn't match up (there is also a lowercase Joseph Driscoll).**"
      ]
    },
    {
      "cell_type": "code",
      "execution_count": 91,
      "metadata": {
        "id": "-tr-jS9ISv1f",
        "outputId": "53c2b06e-b85d-4e11-dd8a-63af476455e3"
      },
      "outputs": [
        {
          "data": {
            "text/plain": [
              "24    CAPTAIN, FIRE SUPPRESSION\n",
              "Name: JobTitle, dtype: object"
            ]
          },
          "execution_count": 91,
          "metadata": {},
          "output_type": "execute_result"
        }
      ],
      "source": [
        "sal[sal['EmployeeName'] == 'JOSEPH DRISCOLL']['JobTitle']"
      ]
    },
    {
      "cell_type": "markdown",
      "metadata": {
        "id": "He7af-vqSv1g"
      },
      "source": [
        "**How much does JOSEPH DRISCOLL make (including benefits)?**"
      ]
    },
    {
      "cell_type": "code",
      "execution_count": 92,
      "metadata": {
        "id": "JP464G5xSv1h",
        "outputId": "096fbaad-e0ba-4647-ad12-7d0b2661242d"
      },
      "outputs": [
        {
          "data": {
            "text/plain": [
              "24    270324.91\n",
              "Name: TotalPayBenefits, dtype: float64"
            ]
          },
          "execution_count": 92,
          "metadata": {},
          "output_type": "execute_result"
        }
      ],
      "source": [
        "sal[sal['EmployeeName'] == 'JOSEPH DRISCOLL']['TotalPayBenefits']"
      ]
    },
    {
      "cell_type": "markdown",
      "metadata": {
        "id": "YeKm4t_OSv1i"
      },
      "source": [
        "**What is the name of highest paid person (including benefits)?**"
      ]
    },
    {
      "cell_type": "code",
      "execution_count": 93,
      "metadata": {
        "id": "waXY0pkpSv1k",
        "outputId": "d47767b8-dc70-4cf4-93aa-fddf2d73b3f4"
      },
      "outputs": [
        {
          "data": {
            "text/plain": [
              "0    NATHANIEL FORD\n",
              "Name: EmployeeName, dtype: object"
            ]
          },
          "execution_count": 93,
          "metadata": {},
          "output_type": "execute_result"
        }
      ],
      "source": [
        "sal[sal['TotalPayBenefits'] == sal['TotalPayBenefits'].max()]['EmployeeName']"
      ]
    },
    {
      "cell_type": "markdown",
      "metadata": {
        "id": "REqAsPJKSv1m"
      },
      "source": [
        "**What is the name of lowest paid person (including benefits)? Do you notice something strange about how much he or she is paid?**"
      ]
    },
    {
      "cell_type": "code",
      "execution_count": 94,
      "metadata": {
        "id": "hCMerKOCSv1p",
        "outputId": "7563bf5f-cc37-488b-8b3e-161b5551c9e6"
      },
      "outputs": [
        {
          "data": {
            "text/html": [
              "<div>\n",
              "<style scoped>\n",
              "    .dataframe tbody tr th:only-of-type {\n",
              "        vertical-align: middle;\n",
              "    }\n",
              "\n",
              "    .dataframe tbody tr th {\n",
              "        vertical-align: top;\n",
              "    }\n",
              "\n",
              "    .dataframe thead th {\n",
              "        text-align: right;\n",
              "    }\n",
              "</style>\n",
              "<table border=\"1\" class=\"dataframe\">\n",
              "  <thead>\n",
              "    <tr style=\"text-align: right;\">\n",
              "      <th></th>\n",
              "      <th>Id</th>\n",
              "      <th>EmployeeName</th>\n",
              "      <th>JobTitle</th>\n",
              "      <th>BasePay</th>\n",
              "      <th>OvertimePay</th>\n",
              "      <th>OtherPay</th>\n",
              "      <th>Benefits</th>\n",
              "      <th>TotalPay</th>\n",
              "      <th>TotalPayBenefits</th>\n",
              "      <th>Year</th>\n",
              "      <th>Notes</th>\n",
              "      <th>Agency</th>\n",
              "      <th>Status</th>\n",
              "    </tr>\n",
              "  </thead>\n",
              "  <tbody>\n",
              "    <tr>\n",
              "      <th>148653</th>\n",
              "      <td>148654</td>\n",
              "      <td>Joe Lopez</td>\n",
              "      <td>Counselor, Log Cabin Ranch</td>\n",
              "      <td>0.0</td>\n",
              "      <td>0.0</td>\n",
              "      <td>-618.13</td>\n",
              "      <td>0.00</td>\n",
              "      <td>-618.13</td>\n",
              "      <td>-618.13</td>\n",
              "      <td>2014</td>\n",
              "      <td>NaN</td>\n",
              "      <td>San Francisco</td>\n",
              "      <td>PT</td>\n",
              "    </tr>\n",
              "  </tbody>\n",
              "</table>\n",
              "</div>"
            ],
            "text/plain": [
              "            Id EmployeeName                    JobTitle  BasePay  OvertimePay  \\\n",
              "148653  148654    Joe Lopez  Counselor, Log Cabin Ranch      0.0          0.0   \n",
              "\n",
              "       OtherPay Benefits  TotalPay  TotalPayBenefits  Year  Notes  \\\n",
              "148653  -618.13     0.00   -618.13           -618.13  2014    NaN   \n",
              "\n",
              "               Agency Status  \n",
              "148653  San Francisco     PT  "
            ]
          },
          "execution_count": 94,
          "metadata": {},
          "output_type": "execute_result"
        }
      ],
      "source": [
        "sal[sal['TotalPayBenefits'] == sal['TotalPayBenefits'].min()]\n",
        "#['EmployeeName']\n",
        "## the strange that the TotalPayBenefits is negative"
      ]
    },
    {
      "cell_type": "markdown",
      "metadata": {
        "id": "aCLQ3Z7YSv1r"
      },
      "source": [
        "**What was the average (mean) BasePay of all employees per year? (2011-2014) ?**"
      ]
    },
    {
      "cell_type": "code",
      "execution_count": 95,
      "metadata": {
        "id": "8x8y7-KMSv1_",
        "outputId": "0472ca18-9282-4742-96db-6d52bd31cfa8"
      },
      "outputs": [
        {
          "name": "stderr",
          "output_type": "stream",
          "text": [
            "C:\\Users\\we\\AppData\\Local\\Temp\\ipykernel_9152\\3145117890.py:1: FutureWarning: The default value of numeric_only in DataFrameGroupBy.mean is deprecated. In a future version, numeric_only will default to False. Either specify numeric_only or select only columns which should be valid for the function.\n",
            "  sal.groupby('Year').mean()['BasePay']\n"
          ]
        },
        {
          "data": {
            "text/plain": [
              "Year\n",
              "2011    63595.956517\n",
              "2012    65436.406857\n",
              "2013    69630.030216\n",
              "2014    66564.421924\n",
              "Name: BasePay, dtype: float64"
            ]
          },
          "execution_count": 95,
          "metadata": {},
          "output_type": "execute_result"
        }
      ],
      "source": [
        "sal.groupby('Year').mean()['BasePay']"
      ]
    },
    {
      "cell_type": "markdown",
      "metadata": {
        "id": "fDIc1qNaSv2A"
      },
      "source": [
        "**How many unique job titles are there?**"
      ]
    },
    {
      "cell_type": "code",
      "execution_count": 96,
      "metadata": {
        "id": "bQu0wkXuSv2B",
        "outputId": "142d0f10-fa34-407c-ec0b-4d18f1b9cff6"
      },
      "outputs": [
        {
          "data": {
            "text/plain": [
              "2159"
            ]
          },
          "execution_count": 96,
          "metadata": {},
          "output_type": "execute_result"
        }
      ],
      "source": [
        "sal['JobTitle'].nunique()"
      ]
    },
    {
      "cell_type": "markdown",
      "metadata": {
        "id": "t63wrN83Sv2C"
      },
      "source": [
        "**What are the top 5 most common jobs?**"
      ]
    },
    {
      "cell_type": "code",
      "execution_count": 97,
      "metadata": {
        "id": "YnN1IFHTSv2D",
        "outputId": "aa3bb5bc-86c0-472c-b036-3ae723f27619"
      },
      "outputs": [
        {
          "data": {
            "text/plain": [
              "Transit Operator                7036\n",
              "Special Nurse                   4389\n",
              "Registered Nurse                3736\n",
              "Public Svc Aide-Public Works    2518\n",
              "Police Officer 3                2421\n",
              "Name: JobTitle, dtype: int64"
            ]
          },
          "execution_count": 97,
          "metadata": {},
          "output_type": "execute_result"
        }
      ],
      "source": [
        "sal['JobTitle'].value_counts().head()"
      ]
    },
    {
      "cell_type": "markdown",
      "metadata": {
        "id": "ECfXjCk_Sv2E"
      },
      "source": [
        "**How many Job Titles were represented by only one person in 2013? (e.g. Job Titles with only one occurence in 2013?)**"
      ]
    },
    {
      "cell_type": "code",
      "execution_count": 98,
      "metadata": {
        "id": "xntQuFhfSv2F",
        "outputId": "975e8e67-c2a5-49e8-ad31-815adc745602"
      },
      "outputs": [
        {
          "data": {
            "text/plain": [
              "202"
            ]
          },
          "execution_count": 98,
          "metadata": {},
          "output_type": "execute_result"
        }
      ],
      "source": [
        "sum(sal[sal['Year']==2013]['JobTitle'].value_counts() == 1)"
      ]
    },
    {
      "cell_type": "markdown",
      "metadata": {
        "id": "IwRMj6CxSv2G"
      },
      "source": [
        "**How many people have the word Chief in their job title? (This is pretty tricky)**"
      ]
    },
    {
      "cell_type": "code",
      "execution_count": 99,
      "metadata": {
        "id": "NzbEQKNMSv2H",
        "outputId": "ff3677bd-2c7a-4bfd-e7d6-a663bf52f721"
      },
      "outputs": [
        {
          "name": "stdout",
          "output_type": "stream",
          "text": [
            "627\n"
          ]
        }
      ],
      "source": [
        "#sall = sal[sal['JobTitle'].str.contains('CHIEF|Chief')]\n",
        "print(len(sal[sal['JobTitle'].str.contains('CHIEF|Chief')].index))"
      ]
    },
    {
      "cell_type": "markdown",
      "metadata": {
        "id": "lJROvRqXSv2H"
      },
      "source": [
        "**Bonus: Is there a correlation between length of the Job Title string and Salary?**"
      ]
    },
    {
      "cell_type": "code",
      "execution_count": 100,
      "metadata": {
        "id": "ydNgJ9E1Sv2L"
      },
      "outputs": [
        {
          "data": {
            "text/html": [
              "<div>\n",
              "<style scoped>\n",
              "    .dataframe tbody tr th:only-of-type {\n",
              "        vertical-align: middle;\n",
              "    }\n",
              "\n",
              "    .dataframe tbody tr th {\n",
              "        vertical-align: top;\n",
              "    }\n",
              "\n",
              "    .dataframe thead th {\n",
              "        text-align: right;\n",
              "    }\n",
              "</style>\n",
              "<table border=\"1\" class=\"dataframe\">\n",
              "  <thead>\n",
              "    <tr style=\"text-align: right;\">\n",
              "      <th></th>\n",
              "      <th>JobLen</th>\n",
              "      <th>TotalPayBenefits</th>\n",
              "    </tr>\n",
              "  </thead>\n",
              "  <tbody>\n",
              "    <tr>\n",
              "      <th>JobLen</th>\n",
              "      <td>1.000000</td>\n",
              "      <td>-0.036878</td>\n",
              "    </tr>\n",
              "    <tr>\n",
              "      <th>TotalPayBenefits</th>\n",
              "      <td>-0.036878</td>\n",
              "      <td>1.000000</td>\n",
              "    </tr>\n",
              "  </tbody>\n",
              "</table>\n",
              "</div>"
            ],
            "text/plain": [
              "                    JobLen  TotalPayBenefits\n",
              "JobLen            1.000000         -0.036878\n",
              "TotalPayBenefits -0.036878          1.000000"
            ]
          },
          "execution_count": 100,
          "metadata": {},
          "output_type": "execute_result"
        }
      ],
      "source": [
        "sal['JobLen'] = sal['JobTitle'].apply(len)\n",
        "sal[['JobLen','TotalPayBenefits']].corr()"
      ]
    },
    {
      "cell_type": "code",
      "execution_count": 101,
      "metadata": {},
      "outputs": [],
      "source": [
        "# there are no correlation between length of the Job Title string and Salary"
      ]
    },
    {
      "cell_type": "markdown",
      "metadata": {
        "id": "TjsPE1b0Sv2M"
      },
      "source": [
        "# Great Job!"
      ]
    }
  ],
  "metadata": {
    "colab": {
      "provenance": []
    },
    "interpreter": {
      "hash": "5238573367df39f7286bb46f9ff5f08f63a01a80960060ce41e3c79b190280fa"
    },
    "kernelspec": {
      "display_name": "Python 3.11.1 64-bit",
      "language": "python",
      "name": "python3"
    },
    "language_info": {
      "codemirror_mode": {
        "name": "ipython",
        "version": 3
      },
      "file_extension": ".py",
      "mimetype": "text/x-python",
      "name": "python",
      "nbconvert_exporter": "python",
      "pygments_lexer": "ipython3",
      "version": "3.11.1"
    }
  },
  "nbformat": 4,
  "nbformat_minor": 0
}
