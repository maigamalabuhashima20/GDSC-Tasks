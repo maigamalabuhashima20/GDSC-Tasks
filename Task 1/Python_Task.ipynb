{
  "cells": [
    {
      "cell_type": "markdown",
      "metadata": {
        "id": "h78KKq0C6253"
      },
      "source": [
        "## **GDSC Al-azhar | Data Science Training**"
      ]
    },
    {
      "cell_type": "markdown",
      "metadata": {
        "id": "oGvBNkHGCa1_"
      },
      "source": [
        "### Print words that start with : **s**"
      ]
    },
    {
      "cell_type": "code",
      "execution_count": 2,
      "metadata": {
        "id": "AnLNDKON7Z0Z"
      },
      "outputs": [],
      "source": [
        "st = 'Print only the words that start with s in this sentence'"
      ]
    },
    {
      "cell_type": "code",
      "execution_count": 3,
      "metadata": {
        "id": "ct4NS5OEHSfu"
      },
      "outputs": [
        {
          "name": "stdout",
          "output_type": "stream",
          "text": [
            "start\n",
            "s\n",
            "sentence\n"
          ]
        }
      ],
      "source": [
        "#Code here\n",
        "for i in st.split():\n",
        "    if(i.startswith('s')):\n",
        "        print(i)"
      ]
    },
    {
      "cell_type": "markdown",
      "metadata": {
        "id": "4bPAdz8MBnTl"
      },
      "source": [
        "### Find the most frequent value in a list\n"
      ]
    },
    {
      "cell_type": "code",
      "execution_count": 11,
      "metadata": {
        "id": "NiWVAgc6BcuE"
      },
      "outputs": [],
      "source": [
        "test = [1, 2, 3, 9, 2, 7, 3, 5, 9, 9, 9] "
      ]
    },
    {
      "cell_type": "code",
      "execution_count": 12,
      "metadata": {
        "id": "fghCsGM3Bc1G"
      },
      "outputs": [
        {
          "name": "stdout",
          "output_type": "stream",
          "text": [
            "9\n"
          ]
        }
      ],
      "source": [
        "#Code here\n",
        "test = [1, 2, 3, 9, 2, 7, 3, 5, 9, 9, 9]\n",
        "counter = 0 \n",
        "for i in test:\n",
        "        curr_frequency = test.count(i)\n",
        "        if(curr_frequency > counter):\n",
        "            counter = curr_frequency\n",
        "            most_freq = i\n",
        "print(most_freq)"
      ]
    },
    {
      "cell_type": "markdown",
      "metadata": {
        "id": "bHYZLtkeDnJn"
      },
      "source": [
        "### Use range() to print all the even numbers from 0 to 10."
      ]
    },
    {
      "cell_type": "code",
      "execution_count": 8,
      "metadata": {
        "id": "hnhR4hUKBdRW"
      },
      "outputs": [
        {
          "name": "stdout",
          "output_type": "stream",
          "text": [
            "0\n",
            "2\n",
            "4\n",
            "6\n",
            "8\n",
            "10\n"
          ]
        }
      ],
      "source": [
        "#Code here\n",
        "for ran in range(0 , 11,2):\n",
        "    print(ran)"
      ]
    },
    {
      "cell_type": "markdown",
      "metadata": {
        "id": "WzihSKexD8t8"
      },
      "source": [
        "### Use List comprehension to create a list of all numbers between 1 and 50 that are divisible by 3."
      ]
    },
    {
      "cell_type": "code",
      "execution_count": 27,
      "metadata": {
        "id": "uiXokoUBGO9g"
      },
      "outputs": [
        {
          "name": "stdout",
          "output_type": "stream",
          "text": [
            "[3, 6, 9, 12, 15, 18, 21, 24, 27, 30, 33, 36, 39, 42, 45, 48]\n"
          ]
        }
      ],
      "source": [
        "#Code here\n",
        "lista = [x for x in range(1, 51)]\n",
        "newList = []\n",
        "for i in lista:\n",
        "    if i % 3 == 0:\n",
        "        newList.append(i)\n",
        "print (newList)"
      ]
    },
    {
      "cell_type": "markdown",
      "metadata": {
        "id": "B9ymkUceGSXf"
      },
      "source": [
        "____\n",
        "### Use a List Comprehension to create a list of the first letters of every word in the string below:"
      ]
    },
    {
      "cell_type": "code",
      "execution_count": 34,
      "metadata": {
        "id": "NHllckuCG6Cd"
      },
      "outputs": [],
      "source": [
        "st = 'Create a list of the first letters of every word in this string'\n"
      ]
    },
    {
      "cell_type": "code",
      "execution_count": 35,
      "metadata": {
        "id": "p4F4Ef-0G3p6"
      },
      "outputs": [
        {
          "name": "stdout",
          "output_type": "stream",
          "text": [
            "['C', 'a', 'l', 'o', 't', 'f', 'l', 'o', 'e', 'w', 'i', 't', 's']\n"
          ]
        }
      ],
      "source": [
        "#Code here\n",
        "list_ = st.split()\n",
        "newList = []\n",
        "for i in list_:\n",
        "    newList.append(i[0])\n",
        "print(newList)"
      ]
    },
    {
      "cell_type": "markdown",
      "metadata": {
        "id": "PC7d_colGJmL"
      },
      "source": [
        "### Go through the string below and if the length of a word is even print \"even!\""
      ]
    },
    {
      "cell_type": "code",
      "execution_count": 21,
      "metadata": {
        "id": "PhdIp7DXHI74"
      },
      "outputs": [],
      "source": [
        "st = 'Print every word in this sentence that has an even number of letters'"
      ]
    },
    {
      "cell_type": "code",
      "execution_count": 22,
      "metadata": {
        "id": "DlZFILeDBde4"
      },
      "outputs": [
        {
          "name": "stdout",
          "output_type": "stream",
          "text": [
            "word even!\n",
            "in even!\n",
            "this even!\n",
            "sentence even!\n",
            "that even!\n",
            "an even!\n",
            "even even!\n",
            "number even!\n",
            "of even!\n"
          ]
        }
      ],
      "source": [
        "#Code here\n",
        "for i in st.split():\n",
        "    if(len(i) % 2 == 0):\n",
        "        print(i , \"even!\")"
      ]
    },
    {
      "cell_type": "markdown",
      "metadata": {
        "id": "vOcpHFeKIDLW"
      },
      "source": [
        "**Using Code**\n",
        "### How to Update List & dict \n",
        "### how to delete elements From List \n",
        "### advantage of set()"
      ]
    },
    {
      "cell_type": "code",
      "execution_count": 43,
      "metadata": {
        "id": "F08boGrLEDM3"
      },
      "outputs": [
        {
          "name": "stdout",
          "output_type": "stream",
          "text": [
            "[1, 2, 3]\n",
            "[0, 2, 3]\n",
            "{1: 'a', 2: 'b', 3: 'c'}\n",
            "{1: 'a', 2: 'b', 3: 'd'}\n",
            "{1: 'i', 2: 'b', 3: 'd'}\n"
          ]
        }
      ],
      "source": [
        "#Code here how to update list and dict\n",
        "list__ = [1 , 2 , 3]\n",
        "print (list__)\n",
        "list__[0] = 0\n",
        "print (list__)\n",
        "\n",
        "dict = {1 : \"a\", 2 :\"b\" , 3 : \"c\"}\n",
        "print(dict)\n",
        "dict[3] = \"d\"\n",
        "print(dict)\n",
        "# another way to update\n",
        "dict.update({1 : \"i\"})\n",
        "print(dict)\n"
      ]
    },
    {
      "cell_type": "code",
      "execution_count": 47,
      "metadata": {},
      "outputs": [
        {
          "name": "stdout",
          "output_type": "stream",
          "text": [
            "{1, 2, 3}\n",
            "{1, 2, 3, 4, 5, 7, 8}\n",
            "{1, 2, 3, 4, 5}\n"
          ]
        }
      ],
      "source": [
        "#advantages of set\n",
        "# 1- cannot have multiple occurrences of the same element\n",
        "sets = {1 , 2 , 3 , 2 , 3 , 1}\n",
        "print (sets) \n",
        "# 2- union sets\n",
        "set_one = {1,2,3,4}\n",
        "set_two = {5 , 4 , 3, 7 , 8}\n",
        "union_of_two_sets = set_one.union(set_two)\n",
        "print(union_of_two_sets)\n",
        "# 3- can add element after create the set\n",
        "my_first_set = {1,2,3,5}\n",
        "my_first_set.add(4)\n",
        "print(my_first_set)"
      ]
    },
    {
      "cell_type": "markdown",
      "metadata": {
        "id": "O30MoQfXP7dC"
      },
      "source": [
        "### Using lambda : Sum 3 nums"
      ]
    },
    {
      "cell_type": "code",
      "execution_count": 48,
      "metadata": {
        "id": "oe8unH9RQI7T"
      },
      "outputs": [
        {
          "name": "stdout",
          "output_type": "stream",
          "text": [
            "12\n"
          ]
        }
      ],
      "source": [
        "#Code here\n",
        "sum = lambda a, b, c : a + b + c\n",
        "print(sum(2, 4, 6))"
      ]
    },
    {
      "cell_type": "markdown",
      "metadata": {
        "id": "Oj2JQ9_BQXim"
      },
      "source": [
        "### how to sort List \n",
        "\n",
        "```\n",
        "thislist = [100, 50, 65, 82, 23]\n",
        "```"
      ]
    },
    {
      "cell_type": "code",
      "execution_count": 39,
      "metadata": {
        "id": "7dusZEDKQkkU"
      },
      "outputs": [
        {
          "name": "stdout",
          "output_type": "stream",
          "text": [
            "[23, 50, 65, 82, 100]\n"
          ]
        }
      ],
      "source": [
        "#Code here\n",
        "thisList = [100 , 50 , 65 , 82 , 23]\n",
        "thisList.sort()\n",
        "print(thisList)"
      ]
    },
    {
      "cell_type": "markdown",
      "metadata": {
        "id": "vM0XHRWMQ9KM"
      },
      "source": [
        "### Reverse List\n",
        "```\n",
        "thislist = [100, 50, 65, 82, 23]\n",
        "```"
      ]
    },
    {
      "cell_type": "code",
      "execution_count": 49,
      "metadata": {
        "id": "bMs5iLPMRBDe"
      },
      "outputs": [
        {
          "name": "stdout",
          "output_type": "stream",
          "text": [
            "[100, 82, 65, 50, 23]\n"
          ]
        }
      ],
      "source": [
        "#Code here\n",
        "thisList = [100 , 50 , 65 , 82 , 23]\n",
        "thisList.sort(reverse= True)\n",
        "print(thisList)"
      ]
    },
    {
      "cell_type": "markdown",
      "metadata": {
        "id": "MNB98xc-IQhB"
      },
      "source": [
        "### Write a Python function that takes a list and returns a new list with unique elements of the first list."
      ]
    },
    {
      "cell_type": "markdown",
      "metadata": {
        "id": "_jMLHcgXKLw6"
      },
      "source": [
        "```\n",
        "    Sample List : [1,1,1,1,2,2,3,3,3,3,4,5]\n",
        "    Unique List : [1, 2, 3, 4, 5]\n",
        "```\n",
        "\n"
      ]
    },
    {
      "cell_type": "code",
      "execution_count": 55,
      "metadata": {
        "id": "vT6IWYJHIHSp"
      },
      "outputs": [
        {
          "name": "stdout",
          "output_type": "stream",
          "text": [
            "[1, 2, 3, 4, 5]\n"
          ]
        }
      ],
      "source": [
        "#Code here\n",
        "sample_list = [1,1,1,1,2,2,3,3,3,3,4,5]\n",
        "unique_list = []\n",
        "for i in sample_list:\n",
        "    if i not in unique_list:\n",
        "        unique_list.append(i)\n",
        "print(unique_list)"
      ]
    },
    {
      "cell_type": "markdown",
      "metadata": {
        "id": "DztDyNXyJbj2"
      },
      "source": [
        "### Write a Python function that accepts a string and calculates the number of upper case letters and lower case letters"
      ]
    },
    {
      "cell_type": "markdown",
      "metadata": {
        "id": "yAmH2jKNIYNq"
      },
      "source": [
        "\n",
        "    Sample String : 'Hello Mr. Rogers, how are you this fine Tuesday?'\n",
        "    Expected Output : \n",
        "    No. of Upper case characters : 4\n",
        "    No. of Lower case Characters : 33\n",
        "\n",
        "If you feel ambitious, explore the Collections module to solve this problem!"
      ]
    },
    {
      "cell_type": "code",
      "execution_count": 59,
      "metadata": {
        "id": "VkiaLfb9GIkR"
      },
      "outputs": [
        {
          "name": "stdout",
          "output_type": "stream",
          "text": [
            "No. of Upper case characters :  4\n",
            "No. of Lower case Characters :  33\n"
          ]
        }
      ],
      "source": [
        "#Code here\n",
        "Sample_String = 'Hello Mr. Rogers, how are you this fine Tuesday?'\n",
        "upp = 0\n",
        "low = 0\n",
        "for i in Sample_String:\n",
        "    if i.isupper():\n",
        "        upp+= 1\n",
        "    elif i.islower():\n",
        "        low += 1\n",
        "print(\"No. of Upper case characters : \", upp)\n",
        "print(\"No. of Lower case Characters : \", low)\n"
      ]
    },
    {
      "cell_type": "markdown",
      "metadata": {
        "id": "OxwVGo7RJ8zk"
      },
      "source": [
        "### Write a Python function that takes a list and returns a new list with unique elements of the first list."
      ]
    },
    {
      "cell_type": "code",
      "execution_count": 1,
      "metadata": {
        "id": "gCw_71ZKJxza"
      },
      "outputs": [
        {
          "name": "stdout",
          "output_type": "stream",
          "text": [
            "[1, 2, 3, 4, 5]\n"
          ]
        }
      ],
      "source": [
        "#Code here\n",
        "sample_list = [1,1,1,1,2,2,3,3,3,3,4,5]\n",
        "test_list = set(sample_list)\n",
        "unique_list = list(test_list)\n",
        "print(unique_list)\n"
      ]
    },
    {
      "cell_type": "markdown",
      "metadata": {
        "id": "56LY3pT-KUg4"
      },
      "source": [
        "### Write a Python function to multiply all the numbers in a list."
      ]
    },
    {
      "cell_type": "markdown",
      "metadata": {
        "id": "MP9hcWP-KeuB"
      },
      "source": [
        "```\n",
        "Sample List : [1, 2, 3, -4]\n",
        "Expected Output : -24```\n",
        "\n"
      ]
    },
    {
      "cell_type": "code",
      "execution_count": 2,
      "metadata": {
        "id": "s4-V2IhRKbb2"
      },
      "outputs": [
        {
          "name": "stdout",
          "output_type": "stream",
          "text": [
            "-24\n"
          ]
        }
      ],
      "source": [
        "#Code here\n",
        "def multi (l):\n",
        "    x = 1\n",
        "    for i in l:\n",
        "        x *= i\n",
        "    return x\n",
        "S_list = [1, 2, 3, -4]\n",
        "print(multi(S_list))"
      ]
    },
    {
      "cell_type": "markdown",
      "metadata": {
        "id": "kB1vJAIhKmoB"
      },
      "source": [
        "### Write a Python function that checks whether a passed string is palindrome or not"
      ]
    },
    {
      "cell_type": "code",
      "execution_count": 5,
      "metadata": {
        "id": "AEHGBqMyLT42"
      },
      "outputs": [
        {
          "name": "stdout",
          "output_type": "stream",
          "text": [
            "string is not palindrome\n"
          ]
        }
      ],
      "source": [
        "#Code here\n",
        "def is_palindrome(str):\n",
        "    str1 = list(str)\n",
        "    str1.reverse()\n",
        "    str2 = \"\".join(str1)\n",
        "    if (str == str2):\n",
        "        print(\"string is palindrome\")\n",
        "    else:\n",
        "        print(\"string is not palindrome\")\n",
        "\n",
        "str = \"abcdcba\"\n",
        "is_palindrome(str)\n",
        "\n"
      ]
    },
    {
      "cell_type": "markdown",
      "metadata": {
        "id": "pzD61QThMWG-"
      },
      "source": [
        "### Open a file, name it 'test.txt' and write 'I Love python' for 5 times in it then close it."
      ]
    },
    {
      "cell_type": "code",
      "execution_count": 8,
      "metadata": {
        "id": "n5rvlxjYMUrN"
      },
      "outputs": [],
      "source": [
        "#Code here\n",
        "file = open(\"test.txt\",\"w+\")\n",
        "for i in range(5):\n",
        "    file.write(\"I Love Python\\n\")\n",
        "file.close()"
      ]
    },
    {
      "cell_type": "markdown",
      "metadata": {
        "id": "mXrPABZVM9Gr"
      },
      "source": [
        "### Handle the exception thrown by the code below by using try and except blocks.\n"
      ]
    },
    {
      "cell_type": "code",
      "execution_count": null,
      "metadata": {
        "colab": {
          "base_uri": "https://localhost:8080/",
          "height": 190
        },
        "id": "a7IC5KxjNByl",
        "outputId": "45bb0ec4-931b-4ebc-9706-2c0962bca72b"
      },
      "outputs": [
        {
          "ename": "TypeError",
          "evalue": "ignored",
          "output_type": "error",
          "traceback": [
            "\u001b[0;31m---------------------------------------------------------------------------\u001b[0m",
            "\u001b[0;31mTypeError\u001b[0m                                 Traceback (most recent call last)",
            "\u001b[0;32m<ipython-input-2-c35f41ad7311>\u001b[0m in \u001b[0;36m<module>\u001b[0;34m\u001b[0m\n\u001b[1;32m      1\u001b[0m \u001b[0;32mfor\u001b[0m \u001b[0mi\u001b[0m \u001b[0;32min\u001b[0m \u001b[0;34m[\u001b[0m\u001b[0;34m'a'\u001b[0m\u001b[0;34m,\u001b[0m\u001b[0;34m'b'\u001b[0m\u001b[0;34m,\u001b[0m\u001b[0;34m'c'\u001b[0m\u001b[0;34m]\u001b[0m\u001b[0;34m:\u001b[0m\u001b[0;34m\u001b[0m\u001b[0;34m\u001b[0m\u001b[0m\n\u001b[0;32m----> 2\u001b[0;31m     \u001b[0mprint\u001b[0m\u001b[0;34m(\u001b[0m\u001b[0mi\u001b[0m\u001b[0;34m**\u001b[0m\u001b[0;36m2\u001b[0m\u001b[0;34m)\u001b[0m\u001b[0;34m\u001b[0m\u001b[0;34m\u001b[0m\u001b[0m\n\u001b[0m",
            "\u001b[0;31mTypeError\u001b[0m: unsupported operand type(s) for ** or pow(): 'str' and 'int'"
          ]
        }
      ],
      "source": [
        "for i in ['a','b','c']:\n",
        "    print(i**2)"
      ]
    },
    {
      "cell_type": "code",
      "execution_count": 9,
      "metadata": {
        "id": "SMwDDxkOZwI8"
      },
      "outputs": [
        {
          "name": "stdout",
          "output_type": "stream",
          "text": [
            "Not an integer\n",
            "Not an integer\n",
            "Not an integer\n"
          ]
        }
      ],
      "source": [
        "#Code here\n",
        "for i in ['a','b','c']:\n",
        "    try: \n",
        "        print(i**2)\n",
        "    except:\n",
        "        print(\"Not an integer\")"
      ]
    },
    {
      "cell_type": "markdown",
      "metadata": {
        "id": "IJK0ED4HNJYZ"
      },
      "source": []
    },
    {
      "cell_type": "markdown",
      "metadata": {
        "id": "eTBb4dXtNzGc"
      },
      "source": [
        "### Handle the exception thrown by the code below by using try and except blocks. Then use a finally block to print 'All Done.'"
      ]
    },
    {
      "cell_type": "code",
      "execution_count": null,
      "metadata": {
        "colab": {
          "base_uri": "https://localhost:8080/",
          "height": 208
        },
        "id": "fU7fUfmjORSP",
        "outputId": "dafc3a05-2c2f-486a-f5dd-aa61fe31e00c"
      },
      "outputs": [
        {
          "ename": "ZeroDivisionError",
          "evalue": "ignored",
          "output_type": "error",
          "traceback": [
            "\u001b[0;31m---------------------------------------------------------------------------\u001b[0m",
            "\u001b[0;31mZeroDivisionError\u001b[0m                         Traceback (most recent call last)",
            "\u001b[0;32m<ipython-input-4-6f985c4c80dd>\u001b[0m in \u001b[0;36m<module>\u001b[0;34m\u001b[0m\n\u001b[1;32m      2\u001b[0m \u001b[0my\u001b[0m \u001b[0;34m=\u001b[0m \u001b[0;36m0\u001b[0m\u001b[0;34m\u001b[0m\u001b[0;34m\u001b[0m\u001b[0m\n\u001b[1;32m      3\u001b[0m \u001b[0;34m\u001b[0m\u001b[0m\n\u001b[0;32m----> 4\u001b[0;31m \u001b[0mz\u001b[0m \u001b[0;34m=\u001b[0m \u001b[0mx\u001b[0m\u001b[0;34m/\u001b[0m\u001b[0my\u001b[0m\u001b[0;34m\u001b[0m\u001b[0;34m\u001b[0m\u001b[0m\n\u001b[0m",
            "\u001b[0;31mZeroDivisionError\u001b[0m: division by zero"
          ]
        }
      ],
      "source": [
        "x = 5\n",
        "y = 0\n",
        "\n",
        "z = x/y"
      ]
    },
    {
      "cell_type": "code",
      "execution_count": 10,
      "metadata": {
        "id": "F9kUJtPpN4Ku"
      },
      "outputs": [
        {
          "name": "stdout",
          "output_type": "stream",
          "text": [
            "x/y Division could not be performed\n",
            "All done!\n"
          ]
        }
      ],
      "source": [
        "#Code here\n",
        "x = 5\n",
        "y = 0\n",
        "try: \n",
        "    z = x/y\n",
        "except:\n",
        "    print(\"x/y Division could not be performed\")\n",
        "finally:\n",
        "    print(\"All done!\")"
      ]
    },
    {
      "cell_type": "markdown",
      "metadata": {
        "id": "MJVhZZLSZa4Q"
      },
      "source": [
        "### **It does not matter how slowly you go as long as you do not stop.**\n",
        "\n",
        "**feel free to contact me if you need any further information**\n",
        "[LinkedIn](https://www.linkedin.com/in/mohamed-ibrahim-513531202/)\n"
      ]
    }
  ],
  "metadata": {
    "colab": {
      "provenance": []
    },
    "kernelspec": {
      "display_name": "Python 3",
      "name": "python3"
    },
    "language_info": {
      "name": "python"
    }
  },
  "nbformat": 4,
  "nbformat_minor": 0
}
